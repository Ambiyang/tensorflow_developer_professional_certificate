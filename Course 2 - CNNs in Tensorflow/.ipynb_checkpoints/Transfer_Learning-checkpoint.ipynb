{
 "cells": [
  {
   "cell_type": "code",
   "execution_count": 1,
   "metadata": {
    "colab": {
     "base_uri": "https://localhost:8080/",
     "height": 366
    },
    "colab_type": "code",
    "id": "1xJZ5glPPCRz",
    "outputId": "880c1948-ca45-4c22-a717-ba7f0625e7ab"
   },
   "outputs": [
    {
     "data": {
      "text/html": [
       "<p style=\"color: red;\">\n",
       "The default version of TensorFlow in Colab will soon switch to TensorFlow 2.x.<br>\n",
       "We recommend you <a href=\"https://www.tensorflow.org/guide/migrate\" target=\"_blank\">upgrade</a> now \n",
       "or ensure your notebook will continue to use TensorFlow 1.x via the <code>%tensorflow_version 1.x</code> magic:\n",
       "<a href=\"https://colab.research.google.com/notebooks/tensorflow_version.ipynb\" target=\"_blank\">more info</a>.</p>\n"
      ],
      "text/plain": [
       "<IPython.core.display.HTML object>"
      ]
     },
     "metadata": {
      "tags": []
     },
     "output_type": "display_data"
    },
    {
     "name": "stdout",
     "output_type": "stream",
     "text": [
      "--2020-02-12 17:36:04--  https://storage.googleapis.com/mledu-datasets/inception_v3_weights_tf_dim_ordering_tf_kernels_notop.h5\n",
      "Resolving storage.googleapis.com (storage.googleapis.com)... 108.177.111.128, 2607:f8b0:4001:c14::80\n",
      "Connecting to storage.googleapis.com (storage.googleapis.com)|108.177.111.128|:443... connected.\n",
      "HTTP request sent, awaiting response... 200 OK\n",
      "Length: 87910968 (84M) [application/x-hdf]\n",
      "Saving to: ‘/tmp/inception_v3_weights_tf_dim_ordering_tf_kernels_notop.h5’\n",
      "\n",
      "\r",
      "          /tmp/ince   0%[                    ]       0  --.-KB/s               \r",
      "         /tmp/incep  19%[==>                 ]  16.01M  40.0MB/s               \r",
      "        /tmp/incept  47%[========>           ]  40.01M  63.4MB/s               \r",
      "       /tmp/incepti  91%[=================>  ]  76.88M  92.5MB/s               \r",
      "/tmp/inception_v3_w 100%[===================>]  83.84M  98.8MB/s    in 0.8s    \n",
      "\n",
      "2020-02-12 17:36:05 (98.8 MB/s) - ‘/tmp/inception_v3_weights_tf_dim_ordering_tf_kernels_notop.h5’ saved [87910968/87910968]\n",
      "\n",
      "WARNING:tensorflow:From /usr/local/lib/python3.6/dist-packages/tensorflow_core/python/ops/resource_variable_ops.py:1630: calling BaseResourceVariable.__init__ (from tensorflow.python.ops.resource_variable_ops) with constraint is deprecated and will be removed in a future version.\n",
      "Instructions for updating:\n",
      "If using Keras pass *_constraint arguments to layers.\n",
      "last layer output shape:  (None, 7, 7, 768)\n"
     ]
    }
   ],
   "source": [
    "import os\n",
    "\n",
    "from tensorflow.keras import layers\n",
    "from tensorflow.keras import Model\n",
    "!wget --no-check-certificate \\\n",
    "    https://storage.googleapis.com/mledu-datasets/inception_v3_weights_tf_dim_ordering_tf_kernels_notop.h5 \\\n",
    "    -O /tmp/inception_v3_weights_tf_dim_ordering_tf_kernels_notop.h5\n",
    "  \n",
    "from tensorflow.keras.applications.inception_v3 import InceptionV3\n",
    "\n",
    "local_weights_file = '/tmp/inception_v3_weights_tf_dim_ordering_tf_kernels_notop.h5'\n",
    "\n",
    "pre_trained_model = InceptionV3(input_shape = (150, 150, 3), \n",
    "                                include_top = False, \n",
    "                                weights = None)\n",
    "\n",
    "pre_trained_model.load_weights(local_weights_file)\n",
    "\n",
    "for layer in pre_trained_model.layers:\n",
    "  layer.trainable = False\n",
    "  \n",
    "# pre_trained_model.summary()\n",
    "\n",
    "last_layer = pre_trained_model.get_layer('mixed7')\n",
    "print('last layer output shape: ', last_layer.output_shape)\n",
    "last_output = last_layer.output"
   ]
  },
  {
   "cell_type": "code",
   "execution_count": 0,
   "metadata": {
    "colab": {},
    "colab_type": "code",
    "id": "5A-cJFZdeVrj"
   },
   "outputs": [],
   "source": [
    "# pre_trained_model.summary()"
   ]
  },
  {
   "cell_type": "code",
   "execution_count": 3,
   "metadata": {
    "colab": {
     "base_uri": "https://localhost:8080/",
     "height": 90
    },
    "colab_type": "code",
    "id": "BMXb913pbvFg",
    "outputId": "a8fda86b-a290-480b-e318-724e35fc80bd"
   },
   "outputs": [
    {
     "name": "stdout",
     "output_type": "stream",
     "text": [
      "WARNING:tensorflow:From /usr/local/lib/python3.6/dist-packages/tensorflow_core/python/ops/nn_impl.py:183: where (from tensorflow.python.ops.array_ops) is deprecated and will be removed in a future version.\n",
      "Instructions for updating:\n",
      "Use tf.where in 2.0, which has the same broadcast rule as np.where\n"
     ]
    }
   ],
   "source": [
    "from tensorflow.keras.optimizers import RMSprop\n",
    "\n",
    "# Flatten the output layer to 1 dimension\n",
    "x = layers.Flatten()(last_output)\n",
    "# Add a fully connected layer with 1,024 hidden units and ReLU activation\n",
    "x = layers.Dense(1024, activation='relu')(x)\n",
    "# Add a dropout rate of 0.2\n",
    "x = layers.Dropout(0.2)(x)                  \n",
    "# Add a final sigmoid layer for classification\n",
    "x = layers.Dense  (1, activation='sigmoid')(x)           \n",
    "\n",
    "model = Model( pre_trained_model.input, x) \n",
    "\n",
    "model.compile(optimizer = RMSprop(lr=0.0001), \n",
    "              loss = 'binary_crossentropy', \n",
    "              metrics = ['acc'])\n"
   ]
  },
  {
   "cell_type": "code",
   "execution_count": 0,
   "metadata": {
    "colab": {},
    "colab_type": "code",
    "id": "mIXwhY6ijq-k"
   },
   "outputs": [],
   "source": [
    "# model.summary()"
   ]
  },
  {
   "cell_type": "code",
   "execution_count": 5,
   "metadata": {
    "colab": {
     "base_uri": "https://localhost:8080/",
     "height": 266
    },
    "colab_type": "code",
    "id": "O4s8HckqGlnb",
    "outputId": "08a12262-2d69-456c-ce36-ca4be01baa0e"
   },
   "outputs": [
    {
     "name": "stdout",
     "output_type": "stream",
     "text": [
      "--2020-02-12 18:04:00--  https://storage.googleapis.com/mledu-datasets/cats_and_dogs_filtered.zip\n",
      "Resolving storage.googleapis.com (storage.googleapis.com)... 108.177.112.128, 2607:f8b0:4001:c14::80\n",
      "Connecting to storage.googleapis.com (storage.googleapis.com)|108.177.112.128|:443... connected.\n",
      "HTTP request sent, awaiting response... 200 OK\n",
      "Length: 68606236 (65M) [application/zip]\n",
      "Saving to: ‘/tmp/cats_and_dogs_filtered.zip’\n",
      "\n",
      "\r",
      "          /tmp/cats   0%[                    ]       0  --.-KB/s               \r",
      "         /tmp/cats_  72%[=============>      ]  47.34M   237MB/s               \r",
      "/tmp/cats_and_dogs_ 100%[===================>]  65.43M   258MB/s    in 0.3s    \n",
      "\n",
      "2020-02-12 18:04:00 (258 MB/s) - ‘/tmp/cats_and_dogs_filtered.zip’ saved [68606236/68606236]\n",
      "\n",
      "Found 2000 images belonging to 2 classes.\n",
      "Found 1000 images belonging to 2 classes.\n"
     ]
    }
   ],
   "source": [
    "!wget --no-check-certificate \\\n",
    "        https://storage.googleapis.com/mledu-datasets/cats_and_dogs_filtered.zip \\\n",
    "       -O /tmp/cats_and_dogs_filtered.zip\n",
    "\n",
    "from tensorflow.keras.preprocessing.image import ImageDataGenerator\n",
    "\n",
    "import os\n",
    "import zipfile\n",
    "\n",
    "local_zip = '//tmp/cats_and_dogs_filtered.zip'\n",
    "\n",
    "zip_ref = zipfile.ZipFile(local_zip, 'r')\n",
    "\n",
    "zip_ref.extractall('/tmp')\n",
    "zip_ref.close()\n",
    "\n",
    "# Define our example directories and files\n",
    "base_dir = '/tmp/cats_and_dogs_filtered'\n",
    "\n",
    "train_dir = os.path.join( base_dir, 'train')\n",
    "validation_dir = os.path.join( base_dir, 'validation')\n",
    "\n",
    "\n",
    "train_cats_dir = os.path.join(train_dir, 'cats') # Directory with our training cat pictures\n",
    "train_dogs_dir = os.path.join(train_dir, 'dogs') # Directory with our training dog pictures\n",
    "validation_cats_dir = os.path.join(validation_dir, 'cats') # Directory with our validation cat pictures\n",
    "validation_dogs_dir = os.path.join(validation_dir, 'dogs')# Directory with our validation dog pictures\n",
    "\n",
    "train_cat_fnames = os.listdir(train_cats_dir)\n",
    "train_dog_fnames = os.listdir(train_dogs_dir)\n",
    "\n",
    "# Add our data-augmentation parameters to ImageDataGenerator\n",
    "train_datagen = ImageDataGenerator(rescale = 1./255.,\n",
    "                                   rotation_range = 40,\n",
    "                                   width_shift_range = 0.2,\n",
    "                                   height_shift_range = 0.2,\n",
    "                                   shear_range = 0.2,\n",
    "                                   zoom_range = 0.2,\n",
    "                                   horizontal_flip = True)\n",
    "\n",
    "# Note that the validation data should not be augmented!\n",
    "test_datagen = ImageDataGenerator( rescale = 1.0/255. )\n",
    "\n",
    "# Flow training images in batches of 20 using train_datagen generator\n",
    "train_generator = train_datagen.flow_from_directory(train_dir,\n",
    "                                                    batch_size = 20,\n",
    "                                                    class_mode = 'binary', \n",
    "                                                    target_size = (150, 150))     \n",
    "\n",
    "# Flow validation images in batches of 20 using test_datagen generator\n",
    "validation_generator =  test_datagen.flow_from_directory( validation_dir,\n",
    "                                                          batch_size  = 20,\n",
    "                                                          class_mode  = 'binary', \n",
    "                                                          target_size = (150, 150))"
   ]
  },
  {
   "cell_type": "code",
   "execution_count": 6,
   "metadata": {
    "colab": {
     "base_uri": "https://localhost:8080/",
     "height": 1000
    },
    "colab_type": "code",
    "id": "Blhq2MAUeyGA",
    "outputId": "466edbab-9432-43c2-ec2f-dc401a494e92"
   },
   "outputs": [
    {
     "name": "stdout",
     "output_type": "stream",
     "text": [
      "Epoch 1/20\n",
      "Epoch 1/20\n",
      "100/100 - 29s - loss: 0.4986 - acc: 0.7585 - val_loss: 0.4536 - val_acc: 0.8740\n",
      "Epoch 2/20\n",
      "Epoch 1/20\n",
      "100/100 - 18s - loss: 0.3925 - acc: 0.8305 - val_loss: 0.5626 - val_acc: 0.8780\n",
      "Epoch 3/20\n",
      "Epoch 1/20\n",
      "100/100 - 19s - loss: 0.3299 - acc: 0.8555 - val_loss: 0.5457 - val_acc: 0.8950\n",
      "Epoch 4/20\n",
      "Epoch 1/20\n",
      "100/100 - 19s - loss: 0.3406 - acc: 0.8570 - val_loss: 0.3838 - val_acc: 0.9300\n",
      "Epoch 5/20\n",
      "Epoch 1/20\n",
      "100/100 - 19s - loss: 0.3193 - acc: 0.8685 - val_loss: 0.3394 - val_acc: 0.9350\n",
      "Epoch 6/20\n",
      "Epoch 1/20\n",
      "100/100 - 20s - loss: 0.3023 - acc: 0.8765 - val_loss: 0.5204 - val_acc: 0.9240\n",
      "Epoch 7/20\n",
      "Epoch 1/20\n",
      "100/100 - 20s - loss: 0.3117 - acc: 0.8680 - val_loss: 0.4317 - val_acc: 0.9380\n",
      "Epoch 8/20\n",
      "Epoch 1/20\n",
      "100/100 - 20s - loss: 0.3273 - acc: 0.8655 - val_loss: 0.5049 - val_acc: 0.9270\n",
      "Epoch 9/20\n",
      "Epoch 1/20\n",
      "100/100 - 20s - loss: 0.2797 - acc: 0.8805 - val_loss: 0.3139 - val_acc: 0.9530\n",
      "Epoch 10/20\n",
      "Epoch 1/20\n",
      "100/100 - 20s - loss: 0.2898 - acc: 0.8840 - val_loss: 0.3823 - val_acc: 0.9520\n",
      "Epoch 11/20\n",
      "Epoch 1/20\n",
      "100/100 - 19s - loss: 0.2652 - acc: 0.8925 - val_loss: 0.4076 - val_acc: 0.9500\n",
      "Epoch 12/20\n",
      "Epoch 1/20\n",
      "100/100 - 19s - loss: 0.2718 - acc: 0.8895 - val_loss: 0.2952 - val_acc: 0.9610\n",
      "Epoch 13/20\n",
      "Epoch 1/20\n",
      "100/100 - 19s - loss: 0.2716 - acc: 0.8835 - val_loss: 0.4040 - val_acc: 0.9500\n",
      "Epoch 14/20\n",
      "Epoch 1/20\n",
      "100/100 - 20s - loss: 0.2637 - acc: 0.8925 - val_loss: 0.5041 - val_acc: 0.9420\n",
      "Epoch 15/20\n",
      "Epoch 1/20\n",
      "100/100 - 19s - loss: 0.2990 - acc: 0.8830 - val_loss: 0.5311 - val_acc: 0.9470\n",
      "Epoch 16/20\n",
      "Epoch 1/20\n",
      "100/100 - 19s - loss: 0.2646 - acc: 0.8860 - val_loss: 0.9761 - val_acc: 0.9120\n",
      "Epoch 17/20\n",
      "Epoch 1/20\n",
      "100/100 - 19s - loss: 0.2371 - acc: 0.9010 - val_loss: 0.4565 - val_acc: 0.9550\n",
      "Epoch 18/20\n",
      "Epoch 1/20\n",
      "100/100 - 19s - loss: 0.2505 - acc: 0.8945 - val_loss: 0.3851 - val_acc: 0.9550\n",
      "Epoch 19/20\n",
      "Epoch 1/20\n",
      "100/100 - 19s - loss: 0.2368 - acc: 0.8950 - val_loss: 0.3939 - val_acc: 0.9560\n",
      "Epoch 20/20\n",
      "Epoch 1/20\n",
      "100/100 - 19s - loss: 0.2481 - acc: 0.9055 - val_loss: 0.5369 - val_acc: 0.9450\n"
     ]
    }
   ],
   "source": [
    "history = model.fit_generator(\n",
    "            train_generator,\n",
    "            validation_data = validation_generator,\n",
    "            steps_per_epoch = 100,\n",
    "            epochs = 20,\n",
    "            validation_steps = 50,\n",
    "            verbose = 2)"
   ]
  },
  {
   "cell_type": "code",
   "execution_count": 7,
   "metadata": {
    "colab": {
     "base_uri": "https://localhost:8080/",
     "height": 319
    },
    "colab_type": "code",
    "id": "C2Fp6Se9rKuL",
    "outputId": "5a8bbd7f-263a-42ea-e3f6-b1277b38f2e5"
   },
   "outputs": [
    {
     "data": {
      "image/png": "[encoded data removed]",
      "text/plain": [
       "<Figure size 432x288 with 1 Axes>"
      ]
     },
     "metadata": {
      "tags": []
     },
     "output_type": "display_data"
    },
    {
     "data": {
      "text/plain": [
       "<Figure size 432x288 with 0 Axes>"
      ]
     },
     "metadata": {
      "tags": []
     },
     "output_type": "display_data"
    }
   ],
   "source": [
    "import matplotlib.pyplot as plt\n",
    "acc = history.history['acc']\n",
    "val_acc = history.history['val_acc']\n",
    "loss = history.history['loss']\n",
    "val_loss = history.history['val_loss']\n",
    "\n",
    "epochs = range(len(acc))\n",
    "\n",
    "plt.plot(epochs, acc, 'r', label='Training accuracy')\n",
    "plt.plot(epochs, val_acc, 'b', label='Validation accuracy')\n",
    "plt.title('Training and validation accuracy')\n",
    "plt.legend(loc=0)\n",
    "plt.figure()\n",
    "\n",
    "\n",
    "plt.show()"
   ]
  }
 ],
 "metadata": {
  "accelerator": "GPU",
  "colab": {
   "collapsed_sections": [],
   "name": "Transfer Learning.ipynb",
   "provenance": []
  },
  "kernelspec": {
   "display_name": "Python 3",
   "language": "python",
   "name": "python3"
  },
  "language_info": {
   "codemirror_mode": {
    "name": "ipython",
    "version": 3
   },
   "file_extension": ".py",
   "mimetype": "text/x-python",
   "name": "python",
   "nbconvert_exporter": "python",
   "pygments_lexer": "ipython3",
   "version": "3.7.3"
  }
 },
 "nbformat": 4,
 "nbformat_minor": 1
}
